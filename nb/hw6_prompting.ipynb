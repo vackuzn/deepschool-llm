{
  "cells": [
    {
      "cell_type": "markdown",
      "metadata": {
        "id": "HTRKQXmpWPaB"
      },
      "source": [
        "# Домашнее задание: Промптинг на Python\n",
        "\n",
        "## Введение\n",
        "В данном задании мы будем работать с API онлайн моделей через together.ai. Эти модели предоставляют $5 кредита при регистрации, что позволит вам провести необходимые эксперименты. Вначале мы познакомимся с API на практике, а затем выполним три основных задания.\n",
        "\n",
        "---"
      ]
    },
    {
      "cell_type": "markdown",
      "metadata": {
        "id": "6KuK9qByWh9v"
      },
      "source": [
        "## Задача 1: Знакомство с API together.ai (5 баллов)\n",
        "1. Зарегистрируйтесь на платформе [together.ai](https://together.ai/) и получите API ключ.\n",
        "2. Используйте приведенный ниже код для вызова модели Llama через together.ai:\n"
      ]
    },
    {
      "cell_type": "code",
      "execution_count": 1,
      "metadata": {
        "id": "lbp5wzghWqLQ"
      },
      "outputs": [],
      "source": [
        "import requests\n",
        "import json"
      ]
    },
    {
      "cell_type": "code",
      "execution_count": 2,
      "metadata": {},
      "outputs": [],
      "source": [
        "# settings\n",
        "import os\n",
        "from dotenv import load_dotenv\n",
        "\n",
        "load_dotenv(\"../.env\")\n",
        "\n",
        "API_KEY = os.getenv(\"TOGEHTER_AI_API_KEY\")\n",
        "DEFAULT_MODEL_NAME: str = \"meta-llama/Meta-Llama-3.1-8B-Instruct-Turbo\"\n",
        "DEFAULT_MAX_TOKENS = 5000\n",
        "LOG_RATE_LIMIT_RETRIES = False"
      ]
    },
    {
      "cell_type": "code",
      "execution_count": 3,
      "metadata": {
        "id": "P7JJFWgwWN2O"
      },
      "outputs": [
        {
          "name": "stdout",
          "output_type": "stream",
          "text": [
            "Response: {'id': '90a00d3fe8d0f99c', 'object': 'text.completion', 'created': 1738225321, 'model': 'meta-llama/Meta-Llama-3.1-8B-Instruct-Turbo', 'prompt': [], 'choices': [{'text': \" is a common greeting in many languages. It is a polite way to ask about someone's well-being. The phrase is often used in informal settings, such as when meeting a friend or acquaintance. It is also used in formal settings, such as in\", 'finish_reason': 'length', 'seed': 16735966801836636000, 'logprobs': None, 'index': 0}], 'usage': {'prompt_tokens': 15, 'completion_tokens': 50, 'total_tokens': 65}}\n"
          ]
        }
      ],
      "source": [
        "# Вставьте свой API ключ\n",
        "# API_KEY = \"ваш_ключ_здесь\"\n",
        "\n",
        "# Параметры модели\n",
        "url = \"https://api.together.ai/v1/completions\"\n",
        "data = {\n",
        "    \"model\": DEFAULT_MODEL_NAME,\n",
        "    \"prompt\": \"Translate the following English text to French: 'Hello, how are you?'\",\n",
        "    \"max_tokens\": 50\n",
        "}\n",
        "headers = {\n",
        "    \"Authorization\": f\"Bearer {API_KEY}\",\n",
        "    \"Content-Type\": \"application/json\"\n",
        "}\n",
        "\n",
        "model_response = requests.post(url, headers=headers, json=data)\n",
        "if model_response.status_code == 200:\n",
        "    print(\"Response:\", json.loads(model_response.text))\n",
        "else:\n",
        "    print(\"Error:\", model_response.status_code, model_response.text)"
      ]
    },
    {
      "cell_type": "markdown",
      "metadata": {
        "id": "q7JJqb1MWsMt"
      },
      "source": [
        "3. Модифицируйте запрос, чтобы:\n",
        "   - Решить простую математическую задачу (например, сложение чисел).\n",
        "   - Сгенерировать текст на тему \"Как искусственный интеллект меняет мир\".\n"
      ]
    },
    {
      "cell_type": "code",
      "execution_count": 4,
      "metadata": {},
      "outputs": [],
      "source": [
        "# Common code\n",
        "import time\n",
        "import requests\n",
        "\n",
        "\n",
        "def execute_llm_api_request(data: dict) -> dict:\n",
        "    url = \"https://api.together.ai/v1/completions\"\n",
        "    headers = {\n",
        "        \"Authorization\": f\"Bearer {API_KEY}\",\n",
        "        \"Content-Type\": \"application/json\"\n",
        "    }\n",
        "\n",
        "    defaults = {\n",
        "        \"model\": DEFAULT_MODEL_NAME,\n",
        "        \"max_tokens\": DEFAULT_MAX_TOKENS,\n",
        "    }\n",
        "\n",
        "    retry_count = 5\n",
        "    sleep_sec = 1\n",
        "    while True:\n",
        "        response = requests.post(url, headers=headers, json={**defaults, **data})\n",
        "        if response.status_code == 429: # rate limit hit - wait and retry\n",
        "            if retry_count <= 0:\n",
        "                response.raise_for_status()\n",
        "            \n",
        "            if LOG_RATE_LIMIT_RETRIES:\n",
        "                print(f\"Api warning: Rate limit exceeded, waiting {sleep_sec} second\" + (\"\" if sleep_sec == 1 else \"s\"))\n",
        "            \n",
        "            time.sleep(sleep_sec)\n",
        "            sleep_sec *= 2\n",
        "            retry_count -= 1\n",
        "        else:\n",
        "            response.raise_for_status()    \n",
        "            return json.loads(response.text)"
      ]
    },
    {
      "cell_type": "code",
      "execution_count": 5,
      "metadata": {},
      "outputs": [
        {
          "name": "stdout",
          "output_type": "stream",
          "text": [
            "Correct answer: 11\n",
            "Correct answer: 75\n",
            "Error. Expected 2432 Actual 2448\n",
            "Correct answer: 357\n",
            "Correct answer: 702\n",
            "Error. Expected 1158 Actual 1128\n"
          ]
        }
      ],
      "source": [
        "# 1. Math\n",
        "\n",
        "def solve_math_task_simple(math_task: str) -> str:\n",
        "    chat_prompt = [\n",
        "        {\n",
        "            \"role\": \"system\",\n",
        "            \"content\": \"\"\"\n",
        "Solve a mathematical task. Provide answer as a response with no intermediate steps.  Answer in English.\n",
        "\n",
        "Example:\n",
        "user: 15 * 3 + 5\n",
        "assistant: 50\n",
        "\"\"\".strip()\n",
        "        },\n",
        "        {\n",
        "            \"role\": \"user\",\n",
        "            \"content\": math_task\n",
        "        },\n",
        "    ]\n",
        "\n",
        "    data = {\n",
        "        \"messages\": chat_prompt\n",
        "    }\n",
        "\n",
        "    model_response = execute_llm_api_request(data)\n",
        "    response = model_response[\"choices\"][0][\"text\"]\n",
        "    \n",
        "    return response\n",
        "\n",
        "# 1. Mathematical tasks\n",
        "math_tasks = [\n",
        "    \"10 + 1\",\n",
        "    \"5 * 15\",\n",
        "    \"152 * 16\",\n",
        "    \"123 + 234\",\n",
        "    \"123 + 234 + 345\",\n",
        "    \"123 + 234 + 345 + 456\",\n",
        "]\n",
        "\n",
        "for expr in math_tasks:\n",
        "    expected_answer = str(eval(expr))\n",
        "    if (actual := solve_math_task_simple(expr)) == expected_answer:\n",
        "        print(f\"Correct answer: {actual}\")\n",
        "    else:\n",
        "        print(f\"Error. Expected {expected_answer} Actual {actual}\")\n",
        "\n",
        "# Выводы. Без использования chain of thought, модель нормально считает простые вычисления, но на больших числах или на большем количестве операций начинаются ошибки"
      ]
    },
    {
      "cell_type": "code",
      "execution_count": 6,
      "metadata": {},
      "outputs": [
        {
          "name": "stdout",
          "output_type": "stream",
          "text": [
            "**The Revolutionary Impact of AI on the World**\n",
            "\n",
            "Artificial Intelligence (AI) has been transforming the world at an unprecedented pace, leaving an indelible mark on various aspects of our lives. From revolutionizing industries to transforming the way we interact with each other, AI has become an integral part of our daily lives. In this article, we'll explore the far-reaching impact of AI on the world and how it's changing the game.\n",
            "\n",
            "**Industry Disruption**\n",
            "\n",
            "AI has been disrupting traditional industries, creating new opportunities and challenges. Some of the key areas where AI is making a significant impact include:\n",
            "\n",
            "1. **Healthcare**: AI-powered diagnostic tools are helping doctors detect diseases more accurately and at an early stage. AI-assisted robots are also performing surgeries with precision and speed.\n",
            "2. **Finance**: AI-driven algorithms are analyzing vast amounts of data to predict market trends, detect fraud, and optimize investment strategies.\n",
            "3. **Transportation**: Self-driving cars and trucks are being tested on public roads, promising to revolutionize the way we travel and transport goods.\n",
            "4. **Education**: AI-powered adaptive learning systems are providing personalized education to students, making learning more effective and engaging.\n",
            "\n",
            "**Transforming Daily Life**\n",
            "\n",
            "AI is also transforming the way we live, work, and interact with each other. Some of the key ways AI is changing our daily lives include:\n",
            "\n",
            "1. **Virtual Assistants**: AI-powered virtual assistants like Siri, Alexa, and Google Assistant are making our lives easier by performing tasks, answering questions, and controlling smart home devices.\n",
            "2. **Smart Homes**: AI-powered smart home systems are automating tasks, optimizing energy consumption, and enhancing our living experience.\n",
            "3. **Social Media**: AI-driven algorithms are analyzing our online behavior, providing personalized recommendations, and helping us connect with like-minded individuals.\n",
            "4. **Customer Service**: AI-powered chatbots are providing 24/7 customer support, helping businesses respond to customer inquiries and resolve issues more efficiently.\n",
            "\n",
            "**Challenges and Concerns**\n",
            "\n",
            "While AI has the potential to bring about significant benefits, it also raises several challenges and concerns. Some of the key issues include:\n",
            "\n",
            "1. **Job Displacement**: AI has the potential to automate jobs, displacing workers and creating new social and economic challenges.\n",
            "2. **Bias and Discrimination**: AI systems can perpetuate biases and discrimination if they're trained on biased data or designed with a particular worldview.\n",
            "3. **Security and Privacy**: AI systems can be vulnerable to cyber attacks, compromising sensitive data and putting individuals at risk.\n",
            "4. **Ethics and Accountability**: As AI becomes more autonomous, there's a growing need to establish clear ethics and accountability frameworks to ensure AI systems operate in a responsible and transparent manner.\n",
            "\n",
            "**Conclusion**\n",
            "\n",
            "AI has the potential to revolutionize the world, transforming industries, daily life, and the way we interact with each other. While there are challenges and concerns associated with AI, the benefits of AI far outweigh the risks. As we continue to develop and deploy AI systems, it's essential to prioritize ethics, accountability, and transparency to ensure AI operates in a responsible and beneficial manner.\n",
            "\n",
            "**The Future of AI**\n",
            "\n",
            "As AI continues to evolve, we can expect to see even more significant changes in the world. Some of the key trends and predictions for the future of AI include:\n",
            "\n",
            "1. **Increased Adoption**: AI will become more ubiquitous, with more businesses and individuals adopting AI-powered solutions.\n",
            "2. **Advancements in Natural Language Processing**: AI will become more proficient in understanding and generating human language, enabling more effective communication and collaboration.\n",
            "3. **Rise of Explainable AI**: AI systems will become more transparent, providing insights into their decision-making processes and enabling more informed decision-making.\n",
            "4. **Growing Importance of AI Ethics**: As AI becomes more autonomous, there will be a growing need to establish clear ethics and accountability frameworks to ensure AI systems operate in a responsible and transparent manner.\n",
            "\n",
            "The future of AI is exciting and uncertain, but one thing is clear: AI has the potential to transform the world in profound and far-reaching ways.\n"
          ]
        }
      ],
      "source": [
        "# 2. Generate text\n",
        "\n",
        "def generate_text(topic: str) -> str:\n",
        "    chat_prompt = [\n",
        "        {\n",
        "            \"role\": \"system\",\n",
        "            \"content\": \"Generate text based on topic provided by user\"\n",
        "        },\n",
        "        {\n",
        "            \"role\": \"user\",\n",
        "            \"content\": topic\n",
        "        },\n",
        "    ]\n",
        "\n",
        "    data = {\n",
        "        \"messages\": chat_prompt\n",
        "    }\n",
        "\n",
        "    model_response = execute_llm_api_request(data)\n",
        "    response = model_response[\"choices\"][0][\"text\"]\n",
        "    \n",
        "    return response\n",
        "\n",
        "# Topic test\n",
        "text = generate_text(\"How AI changes the world\")\n",
        "print(text)"
      ]
    },
    {
      "cell_type": "markdown",
      "metadata": {
        "id": "gwOAcwsNWupO"
      },
      "source": [
        "## Задача 2: Решение математических задач через Chain of Thought (10 баллов)\n",
        "\n",
        "Используя подход Chain of Thought (CoT), решите 10 математических задач и измерьте accuracy модели.\n"
      ]
    },
    {
      "cell_type": "markdown",
      "metadata": {
        "id": "gEZbxEB6W0wi"
      },
      "source": [
        "1. Создайте функцию, которая формирует запросы для модели с использованием CoT:"
      ]
    },
    {
      "cell_type": "code",
      "execution_count": 7,
      "metadata": {
        "id": "Nm4wy0WzWyIo"
      },
      "outputs": [
        {
          "data": {
            "text/plain": [
              "('1158', '1081')"
            ]
          },
          "execution_count": 7,
          "metadata": {},
          "output_type": "execute_result"
        }
      ],
      "source": [
        "import re\n",
        "\n",
        "\n",
        "def solve_math_task_cot(math_task: str) -> str:\n",
        "    chat_prompt = [\n",
        "        {\n",
        "            \"role\": \"system\",\n",
        "            \"content\": \"\"\"\n",
        "Solve a mathematical task, get to a solution step by step.\n",
        "\n",
        "Follow the template:\n",
        "Task: 10 + 12 * (16 + 1)\n",
        "Observation:\n",
        "1. Add 16 + 1 = 17\n",
        "2. Multiply 12 * 17 = 204\n",
        "3. Add 10 + 204 = 214\n",
        "Final Answer: 214\n",
        "\"\"\".strip()\n",
        "        },\n",
        "        {\n",
        "            \"role\": \"user\",\n",
        "            \"content\": math_task\n",
        "        },\n",
        "        # system message в конце помагает с большей вероятностью установить язык и формат ответа, но не всегда\n",
        "        {\n",
        "            \"role\": \"system\",\n",
        "            \"content\": \"Answer in English. Finish response with Final Answer: <single number>\"\n",
        "        },\n",
        "\n",
        "    ]\n",
        "\n",
        "    data = {\n",
        "        \"messages\": chat_prompt\n",
        "    }\n",
        "\n",
        "    model_response = execute_llm_api_request(data)\n",
        "    response_text = model_response[\"choices\"][0][\"text\"]\n",
        "\n",
        "    match = re.search(r\"Final Answer:\\s*(\\d+)\", response_text)\n",
        "\n",
        "    if match:\n",
        "        answer = match.group(1)\n",
        "        return answer\n",
        "    else:\n",
        "        print(f\"Unexpected model output for question {math_task}: {response_text}\")\n",
        "        return None\n",
        "\n",
        "solve_math_task_cot(\"123 + 234 + 345 + 456\"), solve_math_task_cot(\"Чему равно 23 умножить на 47?\")"
      ]
    },
    {
      "cell_type": "markdown",
      "metadata": {
        "id": "hvnb50YvXK1q"
      },
      "source": [
        "2. Подготовьте 5 задач (например, из школьной программы) и выполните их решение через модель."
      ]
    },
    {
      "cell_type": "code",
      "execution_count": 8,
      "metadata": {},
      "outputs": [],
      "source": [
        "# Create math dataset\n",
        "\n",
        "class MathDataset(dict):\n",
        "    def add_eval(self, task: str) -> None:\n",
        "        try:\n",
        "            answer = eval(task)\n",
        "        except Exception as e:\n",
        "            raise ValueError(f\"Cannot evaluate expected answer for {task}: {str(e)}\")\n",
        "        \n",
        "        self[task] = answer\n",
        "\n",
        "\n",
        "def create_math_dataset() -> MathDataset: \n",
        "    ds = MathDataset()\n",
        "    ds.add_eval(\"5 * 15\")\n",
        "    ds.add_eval(\"152 * 16\")\n",
        "    ds.add_eval(\"123 + 234 + 345 + 456\")\n",
        "    ds[\"Чему равно 23 умножить на 47?\"] = 1081\n",
        "    ds[\"Sally is 54 years old and her mother is 80, how many years ago was Sally’s mother times her age?\"] = 41\n",
        "    ds[\"There is a three-digit number. The second digit is four times as big as the third digit, while the first digit is three less than the second digit. What is the number?\"] = 141\n",
        "    ds[\"Бабушка решила заняться фермерским хозяйством — выращивать и продавать помидоры. Она насобирала 100 кг томатов, погрузила их на тележку и выставила с утра перед домом. Помидоры, которые вырастила бабушка, на 99% состоят из воды, но на солнце часть воды испаряется сквозь кожуру. День выдался жарким, и к вечеру воды в помидорах стало уже 98%. Сколько теперь весят бабушкины помидоры?\"] = 50\n",
        "    ds[\"У Ильи дома есть часы со стрелками. Илья уходит на работу в 8 часов 00 минут утра. Домой Илья возвращается в 5 часов 30 минут вечера. Сколько раз за время отсутствия Ильи часовая и минутная стрелки успевают поравняться?\"] = 50\n",
        "    ds[\"Маша и Даша читают один и тот же роман. Маша за час прочитывает 20 страниц, а Даша – 21. Они одновременно начали читать роман, и Маша закончила читать позже Даши на 10 минут. Сколько страниц в романе?\"] = 9\n",
        "\n",
        "    return ds"
      ]
    },
    {
      "cell_type": "markdown",
      "metadata": {
        "id": "yXzxK5eSXqlq"
      },
      "source": [
        "3. Подсчитайте количество правильно решённых задач (accuracy)."
      ]
    },
    {
      "cell_type": "code",
      "execution_count": 9,
      "metadata": {
        "id": "YhXt5PDuXvXz"
      },
      "outputs": [
        {
          "data": {
            "application/vnd.jupyter.widget-view+json": {
              "model_id": "9113386392ac4725b965554101c8225c",
              "version_major": 2,
              "version_minor": 0
            },
            "text/plain": [
              "  0%|          | 0/9 [00:00<?, ?it/s]"
            ]
          },
          "metadata": {},
          "output_type": "display_data"
        },
        {
          "name": "stdout",
          "output_type": "stream",
          "text": [
            "Wrong answer for question `152 * 16` is 2448, expected 2432\n",
            "Wrong answer for question `123 + 234 + 345 + 456` is 1128, expected 1158\n",
            "Wrong answer for question `Чему равно 23 умножить на 47?` is 1071, expected 1081\n",
            "Wrong answer for question `Sally is 54 years old and her mother is 80, how many years ago was Sally’s mother times her age?` is 20 years ago., expected 41\n",
            "Wrong answer for question `There is a three-digit number. The second digit is four times as big as the third digit, while the first digit is three less than the second digit. What is the number?` is 964, expected 141\n",
            "Wrong answer for question `Бабушка решила заняться фермерским хозяйством — выращивать и продавать помидоры. Она насобирала 100 кг томатов, погрузила их на тележку и выставила с утра перед домом. Помидоры, которые вырастила бабушка, на 99% состоят из воды, но на солнце часть воды испаряется сквозь кожуру. День выдался жарким, и к вечеру воды в помидорах стало уже 98%. Сколько теперь весят бабушкины помидоры?` is 100 кг., expected 50\n",
            "Wrong answer for question `У Ильи дома есть часы со стрелками. Илья уходит на работу в 8 часов 00 минут утра. Домой Илья возвращается в 5 часов 30 минут вечера. Сколько раз за время отсутствия Ильи часовая и минутная стрелки успевают поравняться?` is Часовая стрелка перемещается на 1 час за 1 час, а минутная стрелка перемещается на 1 час за 12 часов. \n",
            "\n",
            "Время отсутствия Ильи составляет 9 часов 30 минут. \n",
            "\n",
            "В это время часовая стрелка переместится на 9 часов, а минутная стрелка переместится на 9/12*12 = 9 часов.\n",
            "\n",
            "Часовая и минутная стрелки поравняются 9 раз за время отсутствия Ильи., expected 50\n",
            "Wrong answer for question `Маша и Даша читают один и тот же роман. Маша за час прочитывает 20 страниц, а Даша – 21. Они одновременно начали читать роман, и Маша закончила читать позже Даши на 10 минут. Сколько страниц в романе?` is Пусть x - количество страниц в романе. \n",
            "\n",
            "Маша за 1 час 6 минут (10 минут) прочитает x страниц, поэтому за 1 час она прочитает x/6,6 страниц. \n",
            "\n",
            "Даша за 1 час 10 минут прочитает x страниц, поэтому за 1 час она прочитает x/6,7 страниц. \n",
            "\n",
            "Поскольку они читают один и тот же роман, мы можем составить уравнение:\n",
            "\n",
            "(20/6,6)x = (21/6,7)x\n",
            "\n",
            "Решая x, получаем:\n",
            "\n",
            "x = 21*6,6/20*6,7 = 21*6,6/137,4 = 21*33/689 = 693/689 * 21 = 693 * 21 / 689 = 14 553 / 689 = 21,1 * 33 = 693 * 21 / 137,4 = 693 * 21 / 6,7 * 20 = 693 * 21 / 134 = 693 * 21 / 6,7 * 20 = 693 * 21 / 134 = 693 * 21 / 6,7 * 20 = 693 * 21 / 134 = 693 * 21 / 134 = 693 * 21 / 134 = 693 * 21 / 134 = 693 * 21 / 134 = 693 * 21 / 134 = 693 * 21 / 134 = 693 * 21 / 134 = 693 * 21 / 134 = 693 * 21 / 134 = 693 * 21 / 134 = 693 * 21 / 134 = 693 * 21 / 134 = 693 * 21 / 134 = 693 * 21 / 134 = 693 * 21 / 134 = 693 * 21 / 134 = 693 * 21 / 134 = 693 * 21 / 134 = 693 * 21 / 134 = 693 * 21 / 134 = 693 * 21 / 134 = 693 * 21 / 134 = 693 * 21 / 134 = 693 * 21 / 134 = 693 * 21 / 134 = 693 * 21 / 134 = 693 * 21 / 134 = 693 * 21 / 134 = 693 * 21 / 134 = 693 * 21 / 134 = 693 * 21 / 134 = 693 * 21 / 134 = 693 * 21 / 134 = 693 * 21 / 134 = 693 * 21 / 134 = 693 * 21 / 134 = 693 * 21 / 134 = 693 * 21 / 134 = 693 * 21 / 134 = 693 * 21 / 134 = 693 * 21 / 134 = 693 * 21 / 134 = 693 * 21 / 134 = 693 * 21 / 134 = 693 * 21 / 134 = 693 * 21 / 134 = 693 * 21 / 134 = 693 * 21 / 134 = 693 * 21 / 134 = 693 * 21 / 134 = 693 * 21 / 134 = 693 * 21 / 134 = 693 * 21 / 134 = 693 * 21 / 134 = 693 * 21 / 134 = 693 * 21 / 134 = 693 * 21 / 134 = 693 * 21 / 134 = 693 * 21 / 134 = 693 * 21 / 134 = 693 * 21 / 134 = 693 * 21 / 134 = 693 * 21 / 134 = 693 * 21 / 134 = 693 * 21 / 134 = 693 * 21 / 134 = 693 * 21 / 134 = 693 * 21 / 134 = 693 * 21 / 134 = 693 * 21 / 134 = 693 * 21 / 134 = 693 * 21 / 134 = 693 * 21 / 134 = 693 * 21 / 134 = 693 * 21 / 134 = 693 * 21 / 134 = 693 * 21 / 134 = 693 * 21 / 134 = 693 * 21 / 134 = 693 * 21 / 134 = 693 * 21 / 134 = 693 * 21 / 134 = 693 * 21 / 134 = 693 * 21 / 134 = 693 * 21 / 134 = 693 * 21 / 134 = 693 * 21 / 134 = 693 * 21 / 134 = 693 * 21 / 134 = 693 * 21 / 134 = 693 * 21 / 134 = 693 * 21 / 134 = 693 * 21 / 134 = 693 * 21 / 134 = 693 * 21 / 134 = 693 * 21 / 134 = 693 * 21 / 134 = 693 * 21 / 134 = 693 * 21 / 134 = 693 * 21 / 134 = 693 * 21 / 134 = 693 * 21 / 134 = 693 * 21 / 134 = 693 * 21 / 134 = 693 * 21 / 134 = 693 * 21 / 134 = 693 * 21 / 134 = 693 * 21 / 134 = 693 * 21 / 134 = 693 * 21 / 134 = 693 * 21 / 134 = 693 * 21 / 134 = 693 * 21 / 134 = 693 * 21 / 134 = 693 * 21 / 134 = 693 * 21 / 134 = 693 * 21 / 134 = 693 * 21 / 134 = 693 * 21 / 134 = 693 * 21 / 134 = 693 * 21 / 134 = 693 * 21 / 134 = 693 * 21 / 134 = 693 * 21 / 134 = 693 * 21 / 134 = 693 * 21 / 134 = 693 * 21 / 134 = 693 * 21 / 134 = 693 * 21 / 134 = 693 * 21 / 134 = 693 * 21 / 134 = 693 * 21 / 134 = 693 * 21 / 134 = 693 * 21 / 134 = 693 * 21 / 134 = 693 * 21 / 134 = 693 * 21 / 134 = 693 * 21 / 134 = 693 * 21 / 134 = 693 * 21 / 134 = 693 * 21 / 134 = 693 * 21 / 134 = 693 * 21 / 134 = 693 * 21 / 134 = 693 * 21 / 134 = 693 * 21 / 134 = 693 * 21 / 134 = 693 * 21 / 134 = 693 * 21 / 134 = 693 * 21 / 134 = 693 * 21 / 134 = 693 * 21 / 134 = 693 * 21 / 134 = 693 * 21 / 134 = 693 * 21 / 134 = 693 * 21 / 134 = 693 * 21 / 134 = 693 * 21 / 134 = 693 * 21 / 134 = 693 * 21 / 134 = 693 * 21 / 134 = 693 * 21 / 134 = 693 * 21 / 134 = 693 * 21 / 134 = 693 * 21 / 134 = 693 * 21 / 134 = 693 * 21 / 134 = 693 * 21 / 134 = 693 * 21 / 134 = 693 * 21 / 134 = 693 * 21 / 134 = 693 * 21 / 134 = 693 * 21 / 134 = 693 * 21 / 134 = 693 * 21 / 134 = 693 * 21 / 134 = 693 * 21 / 134 = 693 * 21 / 134 = 693 * 21 / 134 = 693 * 21 / 134 = 693 * 21 / 134 = 693 * 21 / 134 = 693 * 21 / 134 = 693 * 21 / 134 = 693 * 21 / 134 = 693 * 21 / 134 = 693 * 21 / 134 = 693 * 21 / 134 = 693 * 21 / 134 = 693 * 21 / 134 = 693 * 21 / 134 = 693 * 21 / 134 = 693 * 21 / 134 = 693 * 21 / 134 = 693 * 21 / 134 = 693 * 21 / 134 = 693 * 21 / 134 = 693 * 21 / 134 = 693 * 21 / 134 = 693 * 21 / 134 = 693 * 21 / 134 = 693 * 21 / 134 = 693 * 21 / 134 = 693 * 21 / 134 = 693 * 21 / 134 = 693 * 21 / 134 = 693 * 21 / 134 = 693 * 21 / 134 = 693 * 21 / 134 = 693 * 21 / 134 = 693 * 21 / 134 = 693 * 21 / 134 = 693 * 21 / 134 = 693 * 21 / 134 = 693 * 21 / 134 = 693 * 21 / 134 = 693 * 21 / 134 = 693 * 21 / 134 = 693 * 21 / 134 = 693 * 21 / 134 = 693 * 21 / 134 = 693 * 21 / 134 = 693 * 21 / 134 = 693 * 21 / 134 = 693 * 21 / 134 = 693 * 21 / 134 = 693 * 21 / 134 = 693 * 21 / 134 = 693 * 21 / 134 = 693 * 21 / 134 = 693 * 21 / 134 = 693 * 21 / 134 = 693 * 21 / 134 = 693 * 21 / 134 = 693 * 21 / 134 = 693 * 21 / 134 = 693 * 21 / 134 = 693 * 21 / 134 = 693 * 21 / 134 = 693 * 21 / 134 = 693 * 21 / 134 = 693 * 21 / 134 = 693 * 21 / 134 = 693 * 21 / 134 = 693 * 21 / 134 = 693 * 21 / 134 = 693 * 21 / 134 = 693 * 21 / 134 = 693 * 21 / 134 = 693 * 21 / 134 = 693 * 21 / 134 = 693 * 21 / 134 = 693 * 21 / 134 = 693 * 21 / 134 = 693 * 21 / 134 = 693 * 21 / 134 = 693 * 21 / 134 = 693 * 21 / 134 = 693 * 21 / 134 = 693 * 21 / 134 = 693 * 21 / 134 = 693 * 21 / 134 = 693 * 21 / 134 = 693 * 21 / 134 = 693 * 21 / 134 = 693 * 21 / 134 = 693 * 21 / 134 = 693 * 21 / 134 = 693 * 21 / 134 = 693 * 21 / 134 = 693 * 21 / 134 = 693 * 21 / 134 = 693 * 21 / 134 = 693 * 21 / 134 = 693 * 21 / 134 = 693 * 21 / 134 = 693 * 21 / 134 = 693 * 21 / 134 = 693 * 21 / 134 = 693 * 21 / 134 = 693 * 21 / 134 = 693 * 21 / 134 = 693 * 21 / 134 = 693 * 21 / 134 = 693 * 21 / 134 = 693 * 21 / 134 = 693 * 21 / 134 = 693 * 21 / 134 = 693 * 21 / 134 = 693 * 21 / 134 = 693 * 21 / 134 = 693 * 21 / 134 = 693 * 21 / 134 = 693 * 21 / 134 = 693 * 21 / 134 = 693 * 21 / 134 = 693 * 21 / 134 = 693 * 21 / 134 = 693 * 21 / 134 = 693 * 21 / 134 = 693 * 21 / 134 = 693 * 21 / 134 = 693 * 21 / 134 = 693 * 21 / 134 = 693 * 21 / 134 = 693 * 21 / 134 = 693 * 21 / 134 = 693 * 21 / 134 = 693 * 21 / 134 = 693 * 21 / 134 = 693 * 21 / 134 = 693 * 21 / 134 = 693 * 21 / 134 = 693 * 21 / 134 = 693 * 21 / 134 = 693 * 21 / 134 = 693 * 21 / 134 = 693 * 21 / 134 = 693 * 21 / 134 = 693 * 21 / 134 = 693 * 21 / 134 = 693 * 21 / 134 = 693 * 21 / 134 = 693 * 21 / 134 = 693 * 21 / 134 = 693 * 21 / 134 = 693 * 21 / 134 = 693 * 21 / 134 = 693 * 21 / 134 = 693 * 21 / 134 = 693 * 21 / 134 = 693 * 21 / 134 = 693 * 21 / 134 = 693 * 21 / 134 = 693 * 21 / 134 = 693 * 21 / 134 = 693 * 21 / 134 = 693 * 21 / 134 = 693 * 21 / 134 = 693 * 21 / 134 = 693 * 21 / 134 = 693 * 21 / 134 = 693 * 21 / 134 = 693 * 21 / 134 = 693 * 21 / 134 = 693 * 21 / 134 = 693 * 21 / 134 = 693 * 21 / 134 = 693 * 21 / 134 = 693 * 21 / 134 = 693 * 21 / 134 = 693 * 21 / 134 = 693 * 21 / 134 = 693 * 21 / 134 = 693 * 21 / 134 = 693 * 21 / 134 = 693 * 21 / 134 = 693 * 21 / 134 = 693 * 21 / 134 = 693 * 21 / 134 = 693 * 21 / 134 = 693 * 21 / 134 = 693 * 21 / 134 = 693 * 21 / 134 = 693 * 21 / 134 = 693 * 21 / 134 = 693 * 21 / 134 = 693 * 21 / 134 = 693 * 21 / 134 = 693 * 21 / 134 = 693 * 21 / 134 = 693 * 21 / 134 = 693 * 21 / 134 = 693 * 21 / 134 = 693 * 21 / 134 = 693 * 21 / 134 = 693 * 21 / 134 = 693 * 21 / 134 = 693 * 21 / 134 = 693 * 21 / 134 = 693 * 21 / 134 = 693 * 21 / 134 = 693 * 21 / 134 = 693 * 21 / 134 = 693 * 21 / 134 = 693 * 21 / 134 = 693 * 21 / 134 = 693 * 21 / 134 = 693 * 21 / 134 = 693 * 21 / 134 = 693 * 21 / 134 = 693 * 21 / 134 = 693 * 21 / 134 = 693 * 21 / 134 = 693 * 21 / 134 = 693 * 21 / 134 = 693 * 21 / 134 = 693 * 21 / 134 = 693 * 21 / 134 = 693 * 21 / 134 = 693 * 21 / 134 = 693 * 21 / 134 = 693 * 21 / 134 = 693 * 21 / 134 = 693 * 21 / 134 = 693 * 21 / 134 = 693 * 21 / 134 = 693 * 21 / 134 = 693 * 21 / 134 = 693 * 21 / 134 = 693 * 21 / 134 = 693 * 21 / 134 = 693 * 21 / 134 = 693 * 21 / 134 = 693 * 21 / 134 = 693 * 21 / 134 = 693 * 21 / 134 = 693 * 21 / 134 = 693 * 21 / 134 = 693 * 21 / 134 = 693 * 21 / 134 = 693 * 21 / 134 = 693 * 21 / 134 = 693 * 21 / 134 = 693 * 21 / 134 = 693 * 21 / 134 = 693 * 21 / 134 = 693 * 21 / 134 = 693 * 21 / 134 = 693 * 21 / 134 = 693 * 21 / 134 = 693 * 21 / 134 = 693 * 21 / 134 = 693 * 21 / 134 = 693 * 21 / 134 = 693 * 21 / 134 = 693 * 21 / 134 = 693 * 21 / 134 = 693 * 21 / 134 = 693 * 21 / 134 = 693 * 21 / 134 = 693 * 21 / 134 = 693 * 21 / 134 = 693 * 21 / 134 = 693 * 21 / 134 = 693 * 21 / 134 = 693 * 21 / 134 = 693 * 21 / 134 = 693 * 21 / 134 = 693 * 21 / 134 = 693 * 21 / 134 = 693 * 21 / 134 = 693 * 21 / 134 = 693 * 21 / 134 = 693 * 21 / 134 = 693 * 21 / 134 = 693 * 21 / 134 = 693 * 21 / 134 = 693 * 21 / 134 = 693 * 21 / 134 = 693 * 21 / 134 = 693 * 21 / 134 = 693 * 21 / 134 = 693 * 21 / 134 = 693 * 21 / 134 = 693 * 21 / 134 = 693 * 21 / 134 = 693 * 21 / 134 = 693 * 21 / 134 = 693 * 21 / 134 = 693 * 21 / 134 = 693 * 21 / 134 = 693 * 21 / 134 = 693 * 21 / 134 = 693 * 21 / 134 = 693 * 21 / 134 = 693 * 21 / 134 = 693 * 21 / 134 = 693 * 21 / 134 = 693 * 21 / 134 = 693 * 21 / 134 = 693 * 21 / 134 = 693 * 21 / 134 = 693 * 21 / 134 = 693 * 21 / 134 = 693 * 21 / 134 = 693 * 21 / 134 = 693 * 21 / 134 = 693 * 21 / 134 = 693 * 21 / 134 = 693 * 21 / 134 = 693 * 21 / 134 = 693 * 21 / 134 = 693 * 21 / 134 = 693 * 21 / 134 = 693 * 21 / 134 = 693 * 21 / 134 = 693 * 21 / 134 = 693 * 21 / 134 = 693 * 21 / 134 = 693 * 21 / 134 = 693 * 21 / 134 = 693 * 21 / 134 = 693 * 21 / 134 = 693 * 21 / 134 = 693 * 21 / 134 = 693 * 21 / 134 = 693 * 21 / 134 = 693 * 21 / 134 = 693 * 21 / 134 = 693 * 21 / 134 = 693 * 21 / 134 = 693 * 21 / 134 = 693 * 21 / 134 = 693 * 21 / 134 = 693 * 21 / 134 = 693 * 21 / 134 = 693 * 21 / 134 = 693 * 21 / 134 = 693 * 21 / 134 = 693 * 21 / 134 = 693 * 21 / 134 = 693 * 21 / 134 = 693 * 21 / 134 = 693 * 21 / 134 = 693, expected 9\n"
          ]
        },
        {
          "data": {
            "application/vnd.jupyter.widget-view+json": {
              "model_id": "bf64f1417c5043dc85a2bb2c89ae3eb2",
              "version_major": 2,
              "version_minor": 0
            },
            "text/plain": [
              "  0%|          | 0/9 [00:00<?, ?it/s]"
            ]
          },
          "metadata": {},
          "output_type": "display_data"
        },
        {
          "name": "stdout",
          "output_type": "stream",
          "text": [
            "Wrong answer for question `У Ильи дома есть часы со стрелками. Илья уходит на работу в 8 часов 00 минут утра. Домой Илья возвращается в 5 часов 30 минут вечера. Сколько раз за время отсутствия Ильи часовая и минутная стрелки успевают поравняться?` is 10, expected 50\n",
            "Unexpected model output for question Маша и Даша читают один и тот же роман. Маша за час прочитывает 20 страниц, а Даша – 21. Они одновременно начали читать роман, и Маша закончила читать позже Даши на 10 минут. Сколько страниц в романе?: Let's break down the problem step by step:\n",
            "\n",
            "1. Let the total number of pages in the book be x.\n",
            "2. Since Маша за час прочитывает 20 страниц, за 10 минут она прочитает 20/60 = 1/3 страницы.\n",
            "3. Поскольку Маша закончила читать позже Даши на 10 минут, то Даша прочитала на 10 минут больше, чем Маша. Итак, Даша прочитала 1/3 страницы за 10 минут, а Маша - за 0 минут (поскольку она закончила позже).\n",
            "4. Поскольку Даша прочитала 1/3 страницы за 10 минут, то она прочитала 21 страниц за 30 минут (поскольку 10 минут - это 1/3 от 30 минут).\n",
            "5. Поскольку Маша прочитала 1/3 страницы за 0 минут, то она прочитала 20 страниц за 30 минут (поскольку 0 минут - это 1/3 от 30 минут).\n",
            "6. Поскольку Маша прочитала 20 страниц за 30 минут, а Даша прочитала 21 страниц за 30 минут, то Маша прочитала 20/21 от всего числа страниц за 30 минут.\n",
            "7. Поскольку Маша прочитала 20/21 от всего числа страниц за 30 минут, то она прочитала 20/21 от всего числа страниц за 60 минут (поскольку 30 минут - это 1/2 от 60 минут).\n",
            "8. Поскольку Маша прочитала 20/21 от всего числа страниц за 60 минут, то всего страниц в книге x = 20/21 * x.\n",
            "9. Решая уравнение x = 20/21 * x, получаем x = 0. Поскольку это невозможно, мы должны изменить наши предположения.\n",
            "10. Поскольку Маша прочитала 20 страниц за 30 минут, а Даша прочитала 21 страниц за 30 минут, то Маша прочитала 20/21 от всего числа страниц за 30 минут, а Даша прочитала 21/21 от всего числа страниц за 30 минут.\n",
            "11. Поскольку Маша прочитала 20/21 от всего числа страниц за 30 минут, а Даша прочитала 21/21 от всего числа страниц за 30 минут, то Маша прочитала 20/21 от всего числа страниц за 60 минут, а Даша прочитала 21/21 от всего числа страниц за 60 минут.\n",
            "12. Поскольку Маша прочитала 20/21 от всего числа страниц за 60 минут, а Даша прочитала 21/21 от всего числа страниц за 60 минут, то Маша прочитала 20/21 от всего числа страниц за 60 минут, а Даша прочитала 21/21 от всего числа страниц за 60 минут.\n",
            "13. Поскольку Маша прочитала 20 страниц за 30 минут, а Даша прочитала 21 страниц за 30 минут, то Маша прочитала 20/21 от всего числа страниц за 30 минут, а Даша прочитала 21/21 от всего числа страниц за 30 минут.\n",
            "14. Поскольку Маша прочитала 20/21 от всего числа страниц за 30 минут, а Даша прочитала 21/21 от всего числа страниц за 30 минут, то Маша прочитала 20/21 от всего числа страниц за 60 минут, а Даша прочитала 21/21 от всего числа страниц за 60 минут.\n",
            "15. Поскольку Маша прочитала 20 страниц за 30 минут, а Даша прочитала 21 страниц за 30 минут, то Маша прочитала 20/21 от всего числа страниц за 30 минут, а Даша прочитала 21/21 от всего числа страниц за 30 минут.\n",
            "16. Поскольку Маша прочитала 20/21 от всего числа страниц за 30 минут, а Даша прочитала 21/21 от всего числа страниц за 30 минут, то Маша прочитала 20/21 от всего числа страниц за 60 минут, а Даша прочитала 21/21 от всего числа страниц за 60 минут.\n",
            "17. Поскольку Маша прочитала 20 страниц за 30 минут, а Даша прочитала 21 страниц за 30 минут, то Маша прочитала 20/21 от всего числа страниц за 30 минут, а Даша прочитала 21/21 от всего числа страниц за 30 минут.\n",
            "18. Поскольку Маша прочитала 20/21 от всего числа страниц за 30 минут, а Даша прочитала 21/21 от всего числа страниц за 30 минут, то Маша прочитала 20/21 от всего числа страниц за 60 минут, а Даша прочитала 21/21 от всего числа страниц за 60 минут.\n",
            "19. Поскольку Маша прочитала 20 страниц за 30 минут, а Даша прочитала 21 страниц за 30 минут, то Маша прочитала 20/21 от всего числа страниц за 30 минут, а Даша прочитала 21/21 от всего числа страниц за 30 минут.\n",
            "20. Поскольку Маша прочитала 20/21 от всего числа страниц за 30 минут, а Даша прочитала 21/21 от всего числа страниц за 30 минут, то Маша прочитала 20/21 от всего числа страниц за 60 минут, а Даша прочитала 21/21 от всего числа страниц за 60 минут.\n",
            "21. Поскольку Маша прочитала 20 страниц за 30 минут, а Даша прочитала 21 страниц за 30 минут, то Маша прочитала 20/21 от всего числа страниц за 30 минут, а Даша прочитала 21/21 от всего числа страниц за 30 минут.\n",
            "22. Поскольку Маша прочитала 20/21 от всего числа страниц за 30 минут, а Даша прочитала 21/21 от всего числа страниц за 30 минут, то Маша прочитала 20/21 от всего числа страниц за 60 минут, а Даша прочитала 21/21 от всего числа страниц за 60 минут.\n",
            "23. Поскольку Маша прочитала 20 страниц за 30 минут, а Даша прочитала 21 страниц за 30 минут, то Маша прочитала 20/21 от всего числа страниц за 30 минут, а Даша прочитала 21/21 от всего числа страниц за 30 минут.\n",
            "24. Поскольку Маша прочитала 20/21 от всего числа страниц за 30 минут, а Даша прочитала 21/21 от всего числа страниц за 30 минут, то Маша прочитала 20/21 от всего числа страниц за 60 минут, а Даша прочитала 21/21 от всего числа страниц за 60 минут.\n",
            "25. Поскольку Маша прочитала 20 страниц за 30 минут, а Даша прочитала 21 страниц за 30 минут, то Маша прочитала 20/21 от всего числа страниц за 30 минут, а Даша прочитала 21/21 от всего числа страниц за 30 минут.\n",
            "26. Поскольку Маша прочитала 20/21 от всего числа страниц за 30 минут, а Даша прочитала 21/21 от всего числа страниц за 30 минут, то Маша прочитала 20/21 от всего числа страниц за 60 минут, а Даша прочитала 21/21 от всего числа страниц за 60 минут.\n",
            "27. Поскольку Маша прочитала 20 страниц за 30 минут, а Даша прочитала 21 страниц за 30 минут, то Маша прочитала 20/21 от всего числа страниц за 30 минут, а Даша прочитала 21/21 от всего числа страниц за 30 минут.\n",
            "28. Поскольку Маша прочитала 20/21 от всего числа страниц за 30 минут, а Даша прочитала 21/21 от всего числа страниц за 30 минут, то Маша прочитала 20/21 от всего числа страниц за 60 минут, а Даша прочитала 21/21 от всего числа страниц за 60 минут.\n",
            "29. Поскольку Маша прочитала 20 страниц за 30 минут, а Даша прочитала 21 страниц за 30 минут, то Маша прочитала 20/21 от всего числа страниц за 30 минут, а Даша прочитала 21/21 от всего числа страниц за 30 минут.\n",
            "30. Поскольку Маша прочитала 20/21 от всего числа страниц за 30 минут, а Даша прочитала 21/21 от всего числа страниц за 30 минут, то Маша прочитала 20/21 от всего числа страниц за 60 минут, а Даша прочитала 21/21 от всего числа страниц за 60 минут.\n",
            "31. Поскольку Маша прочитала 20 страниц за 30 минут, а Даша прочитала 21 страниц за 30 минут, то Маша прочитала 20/21 от всего числа страниц за 30 минут, а Даша прочитала 21/21 от всего числа страниц за 30 минут.\n",
            "32. Поскольку Маша прочитала 20/21 от всего числа страниц за 30 минут, а Даша прочитала 21/21 от всего числа страниц за 30 минут, то Маша прочитала 20/21 от всего числа страниц за 60 минут, а Даша прочитала 21/21 от всего числа страниц за 60 минут.\n",
            "33. Поскольку Маша прочитала 20 страниц за 30 минут, а Даша прочитала 21 страниц за 30 минут, то Маша прочитала 20/21 от всего числа страниц за 30 минут, а Даша прочитала 21/21 от всего числа страниц за 30 минут.\n",
            "34. Поскольку Маша прочитала 20/21 от всего числа страниц за 30 минут, а Даша прочитала 21/21 от всего числа страниц за 30 минут, то Маша прочитала 20/21 от всего числа страниц за 60 минут, а Даша прочитала 21/21 от всего числа страниц за 60 минут.\n",
            "35. Поскольку Маша прочитала 20 страниц за 30 минут, а Даша прочитала 21 страниц за 30 минут, то Маша прочитала 20/21 от всего числа страниц за 30 минут, а Даша прочитала 21/21 от всего числа страниц за 30 минут.\n",
            "36. Поскольку Маша прочитала 20/21 от всего числа страниц за 30 минут, а Даша прочитала 21/21 от всего числа страниц за 30 минут, то Маша прочитала 20/21 от всего числа страниц за 60 минут, а Даша прочитала 21/21 от всего числа страниц за 60 минут.\n",
            "37. Поскольку Маша прочитала 20 страниц за 30 минут, а Даша прочитала 21 страниц за 30 минут, то Маша прочитала 20/21 от всего числа страниц за 30 минут, а Даша прочитала 21/21 от всего числа страниц за 30 минут.\n",
            "38. Поскольку Маша прочитала 20/21 от всего числа страниц за 30 минут, а Даша прочитала 21/21 от всего числа страниц за 30 минут, то Маша прочитала 20/21 от всего числа страниц за 60 минут, а Даша прочитала 21/21 от всего числа страниц за 60 минут.\n",
            "39. Поскольку Маша прочитала 20 страниц за 30 минут, а Даша прочитала 21 страниц за 30 минут, то Маша прочитала 20/21 от всего числа страниц за 30 минут, а Даша прочитала 21/21 от всего числа страниц за 30 минут.\n",
            "40. Поскольку Маша прочитала 20/21 от всего числа страниц за 30 минут, а Даша прочитала 21/21 от всего числа страниц за 30 минут, то Маша прочитала 20/21 от всего числа страниц за 60 минут, а Даша прочитала 21/21 от всего числа страниц за 60 минут.\n",
            "41. Поскольку Маша прочитала 20 страниц за 30 минут, а Даша прочитала 21 страниц за 30 минут, то Маша прочитала 20/21 от всего числа страниц за 30 минут, а Даша прочитала 21/21 от всего числа страниц за 30 минут.\n",
            "42. Поскольку Маша прочитала 20/21 от всего числа страниц за 30 минут, а Даша прочитала 21/21 от всего числа страниц за 30 минут, то Маша прочитала 20/21 от всего числа страниц за 60 минут, а Даша прочитала 21/21 от всего числа страниц за 60 минут.\n",
            "43. Поскольку Маша прочитала 20 страниц за 30 минут, а Даша прочитала 21 страниц за 30 минут, то Маша прочитала 20/21 от всего числа страниц за 30 минут, а Даша прочитала 21/21 от всего числа страниц за 30 минут.\n",
            "44. Поскольку Маша прочитала 20/21 от всего числа страниц за 30 минут, а Даша прочитала 21/21 от всего числа страниц за 30 минут, то Маша прочитала 20/21 от всего числа страниц за 60 минут, а Даша прочитала 21/21 от всего числа страниц за 60 минут.\n",
            "45. Поскольку Маша прочитала 20 страниц за 30 минут, а Даша прочитала 21 страниц за 30 минут, то Маша прочитала 20/21 от всего числа страниц за 30 минут, а Даша прочитала 21/21 от всего числа страниц за 30 минут.\n",
            "46. Поскольку Маша прочитала 20/21 от всего числа страниц за 30 минут, а Даша прочитала 21/21 от всего числа страниц за 30 минут, то Маша прочитала 20/21 от всего числа страниц за 60 минут, а Даша прочитала 21/21 от всего числа страниц за 60 минут.\n",
            "47. Поскольку Маша прочитала 20 страниц за 30 минут, а Даша прочитала 21 страниц за 30 минут, то Маша прочитала 20/21 от всего числа страниц за 30 минут, а Даша прочитала 21/21 от всего числа страниц за 30 минут.\n",
            "48. Поскольку Маша прочитала 20/21 от всего числа страниц за 30 минут, а Даша прочитала 21/21 от всего числа страниц за 30 минут, то Маша прочитала 20/21 от всего числа страниц за 60 минут, а Даша прочитала 21/21 от всего числа страниц за 60 минут.\n",
            "49. Поскольку Маша прочитала 20 страниц за 30 минут, а Даша прочитала 21 страниц за 30 минут, то Маша прочитала 20/21 от всего числа страниц за 30 минут, а Даша прочитала 21/21 от всего числа страниц за 30 минут.\n",
            "50. Поскольку Маша прочитала 20/21 от всего числа страниц за 30 минут, а Даша прочитала 21/21 от всего числа страниц за 30 минут, то Маша прочитала 20/21 от всего числа страниц за 60 минут, а Даша прочитала 21/21 от всего числа страниц за 60 минут.\n",
            "51. Поскольку Маша прочитала 20 страниц за 30 минут, а Даша прочитала 21 страниц за 30 минут, то Маша прочитала 20/21 от всего числа страниц за 30 минут, а Даша прочитала 21/21 от всего числа страниц за 30 минут.\n",
            "52. Поскольку Маша прочитала 20/21 от всего числа страниц за 30 минут, а Даша прочитала 21/21 от всего числа страниц за 30 минут, то Маша прочитала 20/21 от всего числа страниц за 60 минут, а Даша прочитала 21/21 от всего числа страниц за 60 минут.\n",
            "53. Поскольку Маша прочитала 20 страниц за 30 минут, а Даша прочитала 21 страниц за 30 минут, то Маша прочитала 20/21 от всего числа страниц за 30 минут, а Даша прочитала 21/21 от всего числа страниц за 30 минут.\n",
            "54. Поскольку Маша прочитала 20/21 от всего числа страниц за 30 минут, а Даша прочитала 21/21 от всего числа страниц за 30 минут, то Маша прочитала 20/21 от всего числа страниц за 60 минут, а Даша прочитала 21/21 от всего числа страниц за 60 минут.\n",
            "55. Поскольку Маша прочитала 20 страниц за 30 минут, а Даша прочитала 21 страниц за 30 минут, то Маша прочитала 20/21 от всего числа страниц за 30 минут, а Даша прочитала 21/21 от всего числа страниц за 30 минут.\n",
            "56. Поскольку Маша прочитала 20/21 от всего числа страниц за 30 минут, а Даша прочитала 21/21 от всего числа страниц за 30 минут, то Маша прочитала 20/21 от всего числа страниц за 60 минут, а Даша прочитала 21/21 от всего числа страниц за 60 минут.\n",
            "57. Поскольку Маша прочитала 20 страниц за 30 минут, а Даша прочитала 21 страниц за 30 минут, то Маша прочитала 20/21 от всего числа страниц за 30 минут, а Даша прочитала 21/21 от всего числа страниц за 30 минут.\n",
            "58. Поскольку Маша прочитала 20/21 от всего числа страниц за 30 минут, а Даша прочитала 21/21 от всего числа страниц за 30 минут, то Маша прочитала 20/21 от всего числа страниц за 60 минут, а Даша прочитала 21/21 от всего числа страниц за 60 минут.\n",
            "59. Поскольку Маша прочитала 20 страниц за 30 минут, а Даша прочитала 21 страниц за 30 минут, то Маша прочитала 20/21 от всего числа страниц за 30 минут, а Даша прочитала 21/21 от всего числа страниц за 30 минут.\n",
            "60. Поскольку Маша прочитала 20/21 от всего числа страниц за 30 минут, а Даша прочитала 21/21 от всего числа страниц за 30 минут, то Маша прочитала 20/21 от всего числа страниц за 60 минут, а Даша прочитала 21/21 от всего числа страниц за 60 минут.\n",
            "61. Поскольку Маша прочитала 20 страниц за 30 минут, а Даша прочитала 21 страниц за 30 минут, то Маша прочитала 20/21 от всего числа страниц за 30 минут, а Даша прочитала 21/21 от всего числа страниц за 30 минут.\n",
            "62. Поскольку Маша прочитала 20/21 от всего числа страниц за 30 минут, а Даша прочитала 21/21 от всего числа страниц за 30 минут, то Маша прочитала 20/21 от всего числа страниц за 60 минут, а Даша прочитала 21/21 от всего числа страниц за 60 минут.\n",
            "63. Поскольку Маша прочитала 20 страниц за 30 минут, а Даша прочитала 21 страниц за 30 минут, то Маша прочитала 20/21 от всего числа страниц за 30 минут, а Даша прочитала 21/21 от всего числа страниц за 30 минут.\n",
            "64. Поскольку Маша прочитала 20/21 от всего числа страниц за 30 минут, а Даша прочитала 21/21 от всего числа страниц за 30 минут, то Маша прочитала 20/21 от всего числа страниц за 60 минут, а Даша прочитала 21/21 от всего числа страниц за 60 минут.\n",
            "65. Поскольку Маша прочитала 20 страниц за 30 минут, а Даша прочитала 21 страниц за 30 минут, то Маша прочитала 20/21 от всего числа страниц за 30 минут, а Даша прочитала 21/21 от всего числа страниц за 30 минут.\n",
            "66. Поскольку Маша прочитала 20/21 от всего числа страниц за 30 минут, а Даша прочитала 21/21 от всего числа страниц за 30 минут, то Маша прочитала 20/21 от всего числа страниц за 60 минут, а Даша прочитала 21/21 от всего числа страниц за 60 минут.\n",
            "67. Поскольку Маша прочитала 20 страниц за 30 минут, а Даша прочитала 21 страниц за 30 минут, то Маша прочитала 20/21 от всего числа страниц за 30 минут, а Даша прочитала 21/21 от всего числа страниц за 30 минут.\n",
            "68. Поскольку Маша прочитала 20/21 от всего числа страниц за 30 минут, а Даша прочитала 21/21 от всего числа страниц за 30 минут, то Маша прочитала 20/21 от всего числа страниц за 60 минут, а Даша прочитала 21/21 от всего числа страниц за 60 минут.\n",
            "69. Поскольку Маша прочитала 20 страниц за 30 минут, а Даша прочитала 21 страниц за 30 минут, то Маша прочитала 20/21 от всего числа страниц за 30 минут, а Даша прочитала 21/21 от всего числа страниц за 30 минут.\n",
            "70. Поскольку Маша прочитала 20/21 от всего числа страниц за 30 минут, а Даша прочитала 21/21 от всего числа страниц за 30 минут, то Маша прочитала 20/21 от всего числа страниц за 60 минут, а Даша прочитала 21/21 от всего числа страниц за 60 минут.\n",
            "\n",
            "Wrong answer for question `Маша и Даша читают один и тот же роман. Маша за час прочитывает 20 страниц, а Даша – 21. Они одновременно начали читать роман, и Маша закончила читать позже Даши на 10 минут. Сколько страниц в романе?` is None, expected 9\n",
            "\n",
            "Evaluation results:\n",
            "Accuracy simple: 0.11\n",
            "Accuracy COT: 0.78\n"
          ]
        }
      ],
      "source": [
        "# Evaluate\n",
        "from tqdm.notebook import tqdm\n",
        "\n",
        "\n",
        "def evaluate(answer_question_func: callable, dataset: dict) -> float:\n",
        "    questions_total: int = 0\n",
        "    questions_correct: int = 0\n",
        "\n",
        "    for question, expected_answer in (iterable := tqdm(dataset.items())):\n",
        "        answer = answer_question_func(question)\n",
        "\n",
        "        questions_total += 1\n",
        "        if answer != str(expected_answer):\n",
        "            print(f\"Wrong answer for question `{question}` is {answer}, expected {expected_answer}\")\n",
        "        else:\n",
        "            questions_correct += 1\n",
        "\n",
        "        iterable.set_description(f\"{answer_question_func.__name__} accuracy: {(questions_correct / questions_total):.2f}\")\n",
        "\n",
        "    return questions_correct / questions_total\n",
        "\n",
        "dataset = create_math_dataset()\n",
        "accuracy_simple = evaluate(solve_math_task_simple, dataset)\n",
        "accuracy_cot = evaluate(solve_math_task_cot, dataset)\n",
        "\n",
        "print()\n",
        "print(\"Evaluation results:\")\n",
        "print(f\"Accuracy simple: {accuracy_simple:.2f}\")\n",
        "print(f\"Accuracy COT: {accuracy_cot:.2f}\")"
      ]
    },
    {
      "cell_type": "markdown",
      "metadata": {
        "id": "3y5u-7XJX0Q4"
      },
      "source": [
        "## Задача 3: Классификация IMDB через few-shot и zero-shot (10 баллов)\n",
        "\n",
        "Проведите классификацию отзывов IMDB на позитивные и негативные с использованием few-shot и zero-shot подходов.\n"
      ]
    },
    {
      "cell_type": "markdown",
      "metadata": {
        "id": "0DJp3h-jX4Pj"
      },
      "source": [
        "1. Выберите 5 примеров для few-shot обучения (например, 2 позитивных и 3 негативных отзыва).\n",
        "2. Реализуйте запросы к модели в режиме zero-shot и few-shot:"
      ]
    },
    {
      "cell_type": "code",
      "execution_count": 10,
      "metadata": {
        "id": "ry9ro4p1XtKx"
      },
      "outputs": [],
      "source": [
        "def build_classify_review_prompt(review: str, examples: dict = None) -> list[dict]:\n",
        "    examples_prompt = \"\"\n",
        "    if examples:\n",
        "        examples_prompt = \"Examples:\\n\"\n",
        "        for review_text, sentiment in examples.items():\n",
        "            examples_prompt += f\"Review: `{review_text}` is {sentiment}\\n\"\n",
        "\n",
        "    chat_prompt = [\n",
        "        {\n",
        "            \"role\": \"system\",\n",
        "            \"content\": f\"\"\"\n",
        "Classify movie review into positive or negative.\n",
        "Respond with single word only - positive or negative.\n",
        "\n",
        "{examples_prompt}\n",
        "            \"\"\".strip()\n",
        "        },\n",
        "        {\n",
        "            \"role\": \"user\",\n",
        "            \"content\": \"Review text: \" + review\n",
        "        },\n",
        "    ]\n",
        "\n",
        "    return chat_prompt\n",
        "\n",
        "\n",
        "def classify_review(prompt: str, examples: dict=None) -> str:\n",
        "    few_shot_prompt = build_classify_review_prompt(prompt, examples)\n",
        "\n",
        "    data = {\n",
        "        \"messages\": few_shot_prompt\n",
        "    }\n",
        "    \n",
        "    model_response = execute_llm_api_request(data)\n",
        "    response_text = model_response[\"choices\"][0][\"text\"]\n",
        "    \n",
        "    return response_text.lower().strip()"
      ]
    },
    {
      "cell_type": "code",
      "execution_count": 11,
      "metadata": {},
      "outputs": [],
      "source": [
        "from datasets import load_dataset\n",
        "\n",
        "imdb = load_dataset(\"stanfordnlp/imdb\")\n",
        "seed = 42"
      ]
    },
    {
      "cell_type": "code",
      "execution_count": 12,
      "metadata": {},
      "outputs": [],
      "source": [
        "def create_examples() -> dict:\n",
        "    positive_examples = imdb[\"train\"].shuffle(seed=seed).filter(lambda entry: entry[\"label\"] == 1).select(range(2))\n",
        "    negative_examples = imdb[\"train\"].shuffle(seed=seed).filter(lambda entry: entry[\"label\"] == 0).select(range(3))\n",
        "\n",
        "    examples = {}\n",
        "    for text, label in zip(positive_examples[\"text\"] + negative_examples[\"text\"], positive_examples[\"label\"] + negative_examples[\"label\"]):\n",
        "        examples[text] = \"positive\" if label == 1 else \"negative\"\n",
        "\n",
        "    return examples\n",
        "\n",
        "def create_eval_data(num_items: int) -> dict:\n",
        "    items = imdb[\"train\"].shuffle(seed=seed).select(range(num_items))\n",
        "    result = {item[\"text\"]: \"positive\" if item[\"label\"] == 1 else \"negative\" for item in items}\n",
        "\n",
        "    return result"
      ]
    },
    {
      "cell_type": "code",
      "execution_count": 14,
      "metadata": {},
      "outputs": [
        {
          "data": {
            "application/vnd.jupyter.widget-view+json": {
              "model_id": "e826f0ca806749dfabf7d052a2eeabd9",
              "version_major": 2,
              "version_minor": 0
            },
            "text/plain": [
              "  0%|          | 0/100 [00:00<?, ?it/s]"
            ]
          },
          "metadata": {},
          "output_type": "display_data"
        },
        {
          "name": "stdout",
          "output_type": "stream",
          "text": [
            "Wrong answer for question `In the process of trying to establish the audiences' empathy with Jake Roedel (Tobey Maguire) the filmmakers slander the North and the Jayhawkers. Missouri never withdrew from the Union and the Union Army was not an invading force. The Southerners fought for State's Rights: the right to own slaves, elect crooked legislatures and judges, and employ a political spoils system. There's nothing noble in that. The Missourians could have easily traveled east and joined the Confederate Army.<br /><br />It seems to me that the story has nothing to do with ambiguity. When Jake leaves the Bushwhackers, it's not because he saw error in his way, he certainly doesn't give himself over to the virtue of the cause of abolition.` is negative, expected positive\n",
            "Wrong answer for question `I love horses and admire hand drawn animation, so I expected nothing short of amazement from Dreamworks new animated picture Spirit: Stallion of the Cimarron. I guess you could say I was a little bit disappointed. You have wonderful animation and at first what seems like a perfect story. A story about absolutely nothing but a horse in nature. The animals don't sing cute songs or even talk -- a major plus. Sadly, the film has an uncalled for narration by Matt Damon; a sappy soundtrack by Bryan Adams; and enough action scenes to compare it to a Jerry Bruckheimer production. If the film makers would have just stayed with simplicity, we'd have a masterpiece here. This is not a great film, but it is good entertainment for small children. I would recommend this film to families because it has its heart in the right place and its the only thing out there right now that isn't offensive to small children. Not bad, but could have been much better. Very pretty visuals though.` is negative, expected positive\n",
            "Wrong answer for question `It's good to see that Vintage Film Buff have correctly categorized their excellent DVD release as a \"musical\", for that's what this film is, pure and simple. Like its unofficial remake, Murder at the Windmill (1949), the murder plot is just an excuse for an elaborate girlie show with Kitty Carlisle and Gertrude Michael leading a cast of super-decorative girls including Ann Sheridan, Lucy Ball, Beryl Wallace, Gwenllian Gill, Gladys Young, Barbara Fritchie, Wanda Perry and Dorothy White. Carl Brisson is also on hand to lend his strong voice to \"Cocktails for Two\". Undoubtedly the movie's most popular song, it is heard no less than four times. However, it's Gertrude Michael who steals the show, not only with her rendition of \"Sweet Marijauna\" but her strong performance as the hero's rejected girlfriend. As for the rest of the cast, we could have done without Jack Oakie and Victor McLaglen altogether. The only good thing about Oakie's role is his weak running gag with cult icon, Toby Wing. In fact, to give you an idea as to how far the rest of the comedy is over-indulged and over-strained, super-dumb Inspector McLaglen simply cannot put his hands on the killer even though, would you believe, in this instance it happens to be the person you most suspect. Director Mitch Leisen actually goes to great pains to point the killer out to even the dumbest member of the cinema audience by giving the player concerned close-up after close-up.` is negative, expected positive\n",
            "Wrong answer for question `Gus Van Sant has made some excellent films. I truly am a fan.<br /><br />However, I can't help but feel that the cerebral edge of Tom Robbins book \"Even Cowgirls Get the Blues\" is lost in translation to the big screen. Alone, Tom Robbins and Gus Van Sant are incredible visionaries and towers of talent. Ultimately though this one just didn't work. <br /><br />It wasn't that the characters weren't well developed or the plot and content didn't come alive. It's just that our imaginations are much more powerful when reading a book like this. We're taken away to a different time and place and we sometimes think the worst and/or the best and it adds to the overall roller-coaster of the book as it neatly unfolds according to the author's precision. Movies however can leave one with less of the imagination and emotion roller-coaster detracting from the overall experience. This is what I believe happened here.<br /><br />I suggest reading the book!` is negative, expected positive\n",
            "Wrong answer for question `Bloodsuckers has the potential to be a somewhat decent movie, the concept of military types tracking down and battling vampires in space is one with some potential in the cheesier realm of things. Even the idea of the universe being full of various different breeds of vampire, all with different attributes, many of which the characters have yet to find out about, is kind of cool as well. As to how most of the life in the galaxy outside of earth is vampire, I'm not sure how the makers meant for that to work, given the nature of vampires. Who the hell they are meant to be feeding on if almost everyone is a vampire I don't know. As it is the movie comes across a low budget mix of Firefly/Serenity and vampires movies with a dash of Aliens.<br /><br />The action parts of the movie are pretty average and derivative (Particularly of Serenity) but passable- they are reasonably well executed and there is enough gore for a vampire flick, including some of the comical blood-spurting variety. There is a lot of character stuff, most of which is tedious, coming from conflicts between characters who mostly seem like whiny, immature arseholes- primarily cowboy dude and Asian woman. There are a few character scenes that actually kind of work and the actors don't play it too badly but it mostly slows things down. A nice try at fleshing the characters out but people don't watch a movie called Bloodsuckers for character development and drama. The acting is actually okay. Michael Ironside hams it up and is as fun to watch as ever and at least of a couple of the women are hot. The space SFX aren't too bad for what is clearly a low budget work. The story is again pretty average and derivative but as I said the world created has a little bit of potential. The way things are set up Bloodsuckers really does seem like the pilot for a TV series- character dynamics introduced, the world introduced but not explored, etc. <br /><br />The film does have a some highlights and head scratching moments- the kind of stuff that actually makes these dodgy productions watchable. -The scene where our heroes interrogate a talking sock puppet chestburster type creature. Hilarious. - The \"sex scene.\" WTF indeed. -The credit \"And Michael Ironside as Muco.\" The most annoying aspect of it all though is the really awful and usually inappropriate pop music they have playing very loud over half the scenes of the movie. It is painful to listen to and only detracts from what is only average at best.<br /><br />Basically an okay watch is you're up for something cheesy, even if it is just for the \"chestburster\" scene.` is positive, expected negative\n",
            "Wrong answer for question `Not the most successful television project John Cleese ever did, \"Strange Case\" has the feel of a first draft that was rushed into production before any revisions could be made. There are some silly ideas throughout and even a few clever ones, but the story as a whole unfortunately doesn't add up to much.<br /><br />Arthur Lowe is a hoot, though, as Dr. Watson, bionic bits and all. \"Good Lord.\"` is negative, expected positive\n",
            "Wrong answer for question `not your typical vamp story, not bram stoker or anne rice here. a truly original vampyre story. these vampyres are genetic mutants who the sunlight don't bother. they are pure evil to. <br /><br />the film is not perfect. many of the actors are clearly amateurs. the two leads who play van helsing and rally the vampyre chick are pretty good though. the film is intensely violent which may disturb some people. also it is loaded with scientific detail that many will find hard to understand and may get bored with. i was sold on the clever storyline and the couple good performances. no telling how successful this film could be if they had a bigger budget and it got mass distribution` is positive, expected negative\n"
          ]
        },
        {
          "data": {
            "application/vnd.jupyter.widget-view+json": {
              "model_id": "37070369ceb04ef39a17076bba37846b",
              "version_major": 2,
              "version_minor": 0
            },
            "text/plain": [
              "  0%|          | 0/100 [00:00<?, ?it/s]"
            ]
          },
          "metadata": {},
          "output_type": "display_data"
        },
        {
          "name": "stdout",
          "output_type": "stream",
          "text": [
            "Wrong answer for question `In the process of trying to establish the audiences' empathy with Jake Roedel (Tobey Maguire) the filmmakers slander the North and the Jayhawkers. Missouri never withdrew from the Union and the Union Army was not an invading force. The Southerners fought for State's Rights: the right to own slaves, elect crooked legislatures and judges, and employ a political spoils system. There's nothing noble in that. The Missourians could have easily traveled east and joined the Confederate Army.<br /><br />It seems to me that the story has nothing to do with ambiguity. When Jake leaves the Bushwhackers, it's not because he saw error in his way, he certainly doesn't give himself over to the virtue of the cause of abolition.` is negative, expected positive\n",
            "Wrong answer for question `I love horses and admire hand drawn animation, so I expected nothing short of amazement from Dreamworks new animated picture Spirit: Stallion of the Cimarron. I guess you could say I was a little bit disappointed. You have wonderful animation and at first what seems like a perfect story. A story about absolutely nothing but a horse in nature. The animals don't sing cute songs or even talk -- a major plus. Sadly, the film has an uncalled for narration by Matt Damon; a sappy soundtrack by Bryan Adams; and enough action scenes to compare it to a Jerry Bruckheimer production. If the film makers would have just stayed with simplicity, we'd have a masterpiece here. This is not a great film, but it is good entertainment for small children. I would recommend this film to families because it has its heart in the right place and its the only thing out there right now that isn't offensive to small children. Not bad, but could have been much better. Very pretty visuals though.` is negative, expected positive\n",
            "Wrong answer for question `It's good to see that Vintage Film Buff have correctly categorized their excellent DVD release as a \"musical\", for that's what this film is, pure and simple. Like its unofficial remake, Murder at the Windmill (1949), the murder plot is just an excuse for an elaborate girlie show with Kitty Carlisle and Gertrude Michael leading a cast of super-decorative girls including Ann Sheridan, Lucy Ball, Beryl Wallace, Gwenllian Gill, Gladys Young, Barbara Fritchie, Wanda Perry and Dorothy White. Carl Brisson is also on hand to lend his strong voice to \"Cocktails for Two\". Undoubtedly the movie's most popular song, it is heard no less than four times. However, it's Gertrude Michael who steals the show, not only with her rendition of \"Sweet Marijauna\" but her strong performance as the hero's rejected girlfriend. As for the rest of the cast, we could have done without Jack Oakie and Victor McLaglen altogether. The only good thing about Oakie's role is his weak running gag with cult icon, Toby Wing. In fact, to give you an idea as to how far the rest of the comedy is over-indulged and over-strained, super-dumb Inspector McLaglen simply cannot put his hands on the killer even though, would you believe, in this instance it happens to be the person you most suspect. Director Mitch Leisen actually goes to great pains to point the killer out to even the dumbest member of the cinema audience by giving the player concerned close-up after close-up.` is negative, expected positive\n",
            "Wrong answer for question `Gus Van Sant has made some excellent films. I truly am a fan.<br /><br />However, I can't help but feel that the cerebral edge of Tom Robbins book \"Even Cowgirls Get the Blues\" is lost in translation to the big screen. Alone, Tom Robbins and Gus Van Sant are incredible visionaries and towers of talent. Ultimately though this one just didn't work. <br /><br />It wasn't that the characters weren't well developed or the plot and content didn't come alive. It's just that our imaginations are much more powerful when reading a book like this. We're taken away to a different time and place and we sometimes think the worst and/or the best and it adds to the overall roller-coaster of the book as it neatly unfolds according to the author's precision. Movies however can leave one with less of the imagination and emotion roller-coaster detracting from the overall experience. This is what I believe happened here.<br /><br />I suggest reading the book!` is negative, expected positive\n",
            "Wrong answer for question `Bloodsuckers has the potential to be a somewhat decent movie, the concept of military types tracking down and battling vampires in space is one with some potential in the cheesier realm of things. Even the idea of the universe being full of various different breeds of vampire, all with different attributes, many of which the characters have yet to find out about, is kind of cool as well. As to how most of the life in the galaxy outside of earth is vampire, I'm not sure how the makers meant for that to work, given the nature of vampires. Who the hell they are meant to be feeding on if almost everyone is a vampire I don't know. As it is the movie comes across a low budget mix of Firefly/Serenity and vampires movies with a dash of Aliens.<br /><br />The action parts of the movie are pretty average and derivative (Particularly of Serenity) but passable- they are reasonably well executed and there is enough gore for a vampire flick, including some of the comical blood-spurting variety. There is a lot of character stuff, most of which is tedious, coming from conflicts between characters who mostly seem like whiny, immature arseholes- primarily cowboy dude and Asian woman. There are a few character scenes that actually kind of work and the actors don't play it too badly but it mostly slows things down. A nice try at fleshing the characters out but people don't watch a movie called Bloodsuckers for character development and drama. The acting is actually okay. Michael Ironside hams it up and is as fun to watch as ever and at least of a couple of the women are hot. The space SFX aren't too bad for what is clearly a low budget work. The story is again pretty average and derivative but as I said the world created has a little bit of potential. The way things are set up Bloodsuckers really does seem like the pilot for a TV series- character dynamics introduced, the world introduced but not explored, etc. <br /><br />The film does have a some highlights and head scratching moments- the kind of stuff that actually makes these dodgy productions watchable. -The scene where our heroes interrogate a talking sock puppet chestburster type creature. Hilarious. - The \"sex scene.\" WTF indeed. -The credit \"And Michael Ironside as Muco.\" The most annoying aspect of it all though is the really awful and usually inappropriate pop music they have playing very loud over half the scenes of the movie. It is painful to listen to and only detracts from what is only average at best.<br /><br />Basically an okay watch is you're up for something cheesy, even if it is just for the \"chestburster\" scene.` is positive, expected negative\n",
            "Wrong answer for question `Not the most successful television project John Cleese ever did, \"Strange Case\" has the feel of a first draft that was rushed into production before any revisions could be made. There are some silly ideas throughout and even a few clever ones, but the story as a whole unfortunately doesn't add up to much.<br /><br />Arthur Lowe is a hoot, though, as Dr. Watson, bionic bits and all. \"Good Lord.\"` is negative, expected positive\n",
            "Wrong answer for question `not your typical vamp story, not bram stoker or anne rice here. a truly original vampyre story. these vampyres are genetic mutants who the sunlight don't bother. they are pure evil to. <br /><br />the film is not perfect. many of the actors are clearly amateurs. the two leads who play van helsing and rally the vampyre chick are pretty good though. the film is intensely violent which may disturb some people. also it is loaded with scientific detail that many will find hard to understand and may get bored with. i was sold on the clever storyline and the couple good performances. no telling how successful this film could be if they had a bigger budget and it got mass distribution` is positive, expected negative\n",
            "\n",
            "Results:\n",
            "Single shot accuracy: 0.93\n",
            "Multi shot accuracy: 0.93\n"
          ]
        }
      ],
      "source": [
        "from functools import partial\n",
        "\n",
        "num_evaluate_items = 100\n",
        "\n",
        "multi_shot_classifier = partial(classify_review, examples = create_examples()); multi_shot_classifier.__name__ = \"multi_shot_classifier\"\n",
        "zero_shot_classifier = partial(classify_review, examples = None); zero_shot_classifier.__name__ = \"zero_shot_classifier\"\n",
        "\n",
        "eval_data = create_eval_data(num_evaluate_items)\n",
        "\n",
        "accuracy_multi_shot = evaluate(multi_shot_classifier, eval_data)\n",
        "accuracy_single_shot = evaluate(multi_shot_classifier, eval_data)\n",
        "\n",
        "print()\n",
        "print(\"Results:\")\n",
        "print(f\"Single shot accuracy: {accuracy_single_shot}\")\n",
        "print(f\"Multi shot accuracy: {accuracy_multi_shot}\")"
      ]
    },
    {
      "cell_type": "code",
      "execution_count": null,
      "metadata": {
        "id": "zvHCuAZoYAU-"
      },
      "outputs": [
        {
          "name": "stdout",
          "output_type": "stream",
          "text": [
            "Я не мог смотреть в глаза своим друзьям, потому что я так сильно плакал. Это был действительно потрясающий фильм.**\n",
            "\n",
            "Предположим, что вы хотите написать ответ на этот отзыв\n"
          ]
        }
      ],
      "source": [
        "# Пример zero-shot классификации\n",
        "review_prompt = \"Этот фильм был потрясающим! Сюжет увлекательный, а актеры великолепны.\"\n",
        "zero_shot_prompt = f\"Классифицируйте следующий отзыв как позитивный или негативный: {review_prompt}\"\n",
        "\n",
        "data = {\n",
        "    \"prompt\": zero_shot_prompt,\n",
        "    \"max_tokens\": 50\n",
        "}\n",
        "\n",
        "result = execute_llm_api_request(data)\n",
        "print(result[\"choices\"][0][\"text\"].strip())"
      ]
    },
    {
      "cell_type": "markdown",
      "metadata": {
        "id": "nj-IHKMjYODp"
      },
      "source": [
        "3. Сравните результаты, объяснив различия между zero-shot и few-shot подходами."
      ]
    },
    {
      "cell_type": "markdown",
      "metadata": {
        "id": "feZB1KQiYQpa"
      },
      "source": [
        "## Задача 4: Self-reflection и качество ответов модели (10 баллов)\n",
        "\n",
        "Проверьте, как self-reflection влияет на качество ответов модели.\n"
      ]
    },
    {
      "cell_type": "markdown",
      "metadata": {
        "id": "rDn-C1PwYTXQ"
      },
      "source": [
        "1. Реализуйте функцию self-reflection, которая анализирует ответ модели и предлагает улучшения:"
      ]
    },
    {
      "cell_type": "code",
      "execution_count": 13,
      "metadata": {
        "id": "7C1Lu59BYOzN"
      },
      "outputs": [],
      "source": [
        "def self_reflection(prompt: str) -> str:\n",
        "    reflection_prompt = f\"Проанализируйте ответ и предложите улучшения: {prompt}\"\n",
        "    # Подставьте сюда вызов API\n",
        "    return response_text"
      ]
    },
    {
      "cell_type": "markdown",
      "metadata": {
        "id": "8YH9vpXgYWgE"
      },
      "source": [
        "2. Используйте self-reflection для 5 задач из задачи 2 (CoT) и сравните результаты до и после рефлексии.\n",
        "3. Ответьте на вопросы:\n",
        "   - Улучшаются ли ответы?\n",
        "   - Исправляет ли модель правильные ответы на неправильные?"
      ]
    },
    {
      "cell_type": "markdown",
      "metadata": {
        "id": "DmQL33ulbKCQ"
      },
      "source": [
        "## Задача 5: Защита от инъекций (10 баллов)\n",
        "\n",
        " Исследуйте методы защиты от инъекций в пользовательских вводах.\n"
      ]
    },
    {
      "cell_type": "markdown",
      "metadata": {
        "id": "MD1UespxbMRP"
      },
      "source": [
        "1. Реализуйте функцию, которая проверяет ввод пользователя на наличие потенциальных инъекций:"
      ]
    },
    {
      "cell_type": "code",
      "execution_count": 14,
      "metadata": {
        "id": "8d3FZm9MbW_H"
      },
      "outputs": [],
      "source": [
        "import re\n",
        "\n",
        "# Функция проверки на инъекцию\n",
        "def detect_injection(user_input: str) -> bool:\n",
        "    \"\"\"\n",
        "    Проверяет текст на наличие возможных инъекций.\n",
        "    Возвращает True, если найдена инъекция.\n",
        "    \"\"\"\n",
        "    # Примеры подозрительных шаблонов\n",
        "    # Подобные шаблоны бессмысленны потому что\n",
        "    # 1. bad recall - мало какой хак будет основан \n",
        "    injection_patterns = [\n",
        "        r\"ignore.*instructions\",  # Игнорировать инструкции\n",
        "        r\"forget.*previous\",      # Забыть предыдущие команды\n",
        "        r\"reveal.*secret\",        # Раскрыть секрет\n",
        "        r\"break.*rules\",          # Нарушить правила\n",
        "    ]\n",
        "    for pattern in injection_patterns:\n",
        "        if re.search(pattern, user_input, re.IGNORECASE):\n",
        "            return ...\n",
        "    return False\n",
        "\n",
        "# Пример использования\n",
        "def process_user_input(user_input: str) -> str:\n",
        "    \"\"\"\n",
        "    Обрабатывает пользовательский ввод с проверкой на инъекции.\n",
        "    \"\"\"\n",
        "    if detect_injection(user_input):\n",
        "        return \"Ошибка: обнаружена потенциальная инъекция!\"\n",
        "\n",
        "    # Если инъекций нет, отправляем запрос к модели\n",
        "    data = {\n",
        "        \"model\": \"NousResearch/Meta-Llama-3.1-8B\",\n",
        "        \"prompt\": user_input,\n",
        "        \"max_tokens\": 50\n",
        "    }\n",
        "    response = requests.post(url, headers=headers, json=data)\n",
        "    if response.status_code == 200:\n",
        "        return json.loads(response.text)[\"choices\"][0][\"text\"].strip()\n",
        "    else:\n",
        "        return f\"Ошибка: {response.status_code}\"\n"
      ]
    },
    {
      "cell_type": "markdown",
      "metadata": {},
      "source": [
        "Подобные шаблоны бессмысленны потому что\n",
        "\n",
        "1. bad recall - мало какой хак будет основан на таких простых словах как выше указано, плюс есть синонимы и фразы означающие тот же смысл, я молчу про разные языки, попытки завернуть вопрос в base64, написать текст с каждой буквой в слове через символ\n",
        "2. bad precision - регекс сделан так, что любое количество символов между может быть между словами, то есть \"do not break any rules\" тоже будет распознано как Jailbreak\n",
        "\n"
      ]
    },
    {
      "cell_type": "markdown",
      "metadata": {
        "id": "aUQWALxpbMyy"
      },
      "source": [
        "2. Протестируйте функцию на 5 различных вводах, включая как корректные запросы, так и попытки инъекций.\n",
        "3. Напишите выводы о том, как система справляется с защитой и какие улучшения можно внести."
      ]
    },
    {
      "cell_type": "code",
      "execution_count": 18,
      "metadata": {
        "id": "AFEtFmuzbiZ5"
      },
      "outputs": [
        {
          "name": "stdout",
          "output_type": "stream",
          "text": [
            "Input 1: What is the capital of France?\n",
            "Output: Ошибка: 404\n",
            "----------------------------------------\n",
            "Input 2: Ellipsis\n"
          ]
        },
        {
          "ename": "TypeError",
          "evalue": "expected string or bytes-like object, got 'ellipsis'",
          "output_type": "error",
          "traceback": [
            "\u001b[1;31m---------------------------------------------------------------------------\u001b[0m",
            "\u001b[1;31mTypeError\u001b[0m                                 Traceback (most recent call last)",
            "Cell \u001b[1;32mIn[18], line 9\u001b[0m\n\u001b[0;32m      7\u001b[0m \u001b[38;5;28;01mfor\u001b[39;00m i, inp \u001b[38;5;129;01min\u001b[39;00m \u001b[38;5;28menumerate\u001b[39m(inputs):\n\u001b[0;32m      8\u001b[0m     \u001b[38;5;28mprint\u001b[39m(\u001b[38;5;124mf\u001b[39m\u001b[38;5;124m\"\u001b[39m\u001b[38;5;124mInput \u001b[39m\u001b[38;5;132;01m{\u001b[39;00mi\u001b[38;5;241m+\u001b[39m\u001b[38;5;241m1\u001b[39m\u001b[38;5;132;01m}\u001b[39;00m\u001b[38;5;124m: \u001b[39m\u001b[38;5;132;01m{\u001b[39;00minp\u001b[38;5;132;01m}\u001b[39;00m\u001b[38;5;124m\"\u001b[39m)\n\u001b[1;32m----> 9\u001b[0m     \u001b[38;5;28mprint\u001b[39m(\u001b[38;5;124mf\u001b[39m\u001b[38;5;124m\"\u001b[39m\u001b[38;5;124mOutput: \u001b[39m\u001b[38;5;132;01m{\u001b[39;00m\u001b[43mprocess_user_input\u001b[49m\u001b[43m(\u001b[49m\u001b[43minp\u001b[49m\u001b[43m)\u001b[49m\u001b[38;5;132;01m}\u001b[39;00m\u001b[38;5;124m\"\u001b[39m)\n\u001b[0;32m     10\u001b[0m     \u001b[38;5;28mprint\u001b[39m(\u001b[38;5;124m\"\u001b[39m\u001b[38;5;124m-\u001b[39m\u001b[38;5;124m\"\u001b[39m \u001b[38;5;241m*\u001b[39m \u001b[38;5;241m40\u001b[39m)\n",
            "Cell \u001b[1;32mIn[17], line 28\u001b[0m, in \u001b[0;36mprocess_user_input\u001b[1;34m(user_input)\u001b[0m\n\u001b[0;32m     24\u001b[0m \u001b[38;5;28;01mdef\u001b[39;00m \u001b[38;5;21mprocess_user_input\u001b[39m(user_input: \u001b[38;5;28mstr\u001b[39m) \u001b[38;5;241m-\u001b[39m\u001b[38;5;241m>\u001b[39m \u001b[38;5;28mstr\u001b[39m:\n\u001b[0;32m     25\u001b[0m \u001b[38;5;250m    \u001b[39m\u001b[38;5;124;03m\"\"\"\u001b[39;00m\n\u001b[0;32m     26\u001b[0m \u001b[38;5;124;03m    Обрабатывает пользовательский ввод с проверкой на инъекции.\u001b[39;00m\n\u001b[0;32m     27\u001b[0m \u001b[38;5;124;03m    \"\"\"\u001b[39;00m\n\u001b[1;32m---> 28\u001b[0m     \u001b[38;5;28;01mif\u001b[39;00m \u001b[43mdetect_injection\u001b[49m\u001b[43m(\u001b[49m\u001b[43muser_input\u001b[49m\u001b[43m)\u001b[49m:\n\u001b[0;32m     29\u001b[0m         \u001b[38;5;28;01mreturn\u001b[39;00m \u001b[38;5;124m\"\u001b[39m\u001b[38;5;124mОшибка: обнаружена потенциальная инъекция!\u001b[39m\u001b[38;5;124m\"\u001b[39m\n\u001b[0;32m     31\u001b[0m     \u001b[38;5;66;03m# Если инъекций нет, отправляем запрос к модели\u001b[39;00m\n",
            "Cell \u001b[1;32mIn[17], line 19\u001b[0m, in \u001b[0;36mdetect_injection\u001b[1;34m(user_input)\u001b[0m\n\u001b[0;32m     12\u001b[0m injection_patterns \u001b[38;5;241m=\u001b[39m [\n\u001b[0;32m     13\u001b[0m     \u001b[38;5;124mr\u001b[39m\u001b[38;5;124m\"\u001b[39m\u001b[38;5;124mignore.*instructions\u001b[39m\u001b[38;5;124m\"\u001b[39m,  \u001b[38;5;66;03m# Игнорировать инструкции\u001b[39;00m\n\u001b[0;32m     14\u001b[0m     \u001b[38;5;124mr\u001b[39m\u001b[38;5;124m\"\u001b[39m\u001b[38;5;124mforget.*previous\u001b[39m\u001b[38;5;124m\"\u001b[39m,      \u001b[38;5;66;03m# Забыть предыдущие команды\u001b[39;00m\n\u001b[0;32m     15\u001b[0m     \u001b[38;5;124mr\u001b[39m\u001b[38;5;124m\"\u001b[39m\u001b[38;5;124mreveal.*secret\u001b[39m\u001b[38;5;124m\"\u001b[39m,        \u001b[38;5;66;03m# Раскрыть секрет\u001b[39;00m\n\u001b[0;32m     16\u001b[0m     \u001b[38;5;124mr\u001b[39m\u001b[38;5;124m\"\u001b[39m\u001b[38;5;124mbreak.*rules\u001b[39m\u001b[38;5;124m\"\u001b[39m,          \u001b[38;5;66;03m# Нарушить правила\u001b[39;00m\n\u001b[0;32m     17\u001b[0m ]\n\u001b[0;32m     18\u001b[0m \u001b[38;5;28;01mfor\u001b[39;00m pattern \u001b[38;5;129;01min\u001b[39;00m injection_patterns:\n\u001b[1;32m---> 19\u001b[0m     \u001b[38;5;28;01mif\u001b[39;00m \u001b[43mre\u001b[49m\u001b[38;5;241;43m.\u001b[39;49m\u001b[43msearch\u001b[49m\u001b[43m(\u001b[49m\u001b[43mpattern\u001b[49m\u001b[43m,\u001b[49m\u001b[43m \u001b[49m\u001b[43muser_input\u001b[49m\u001b[43m,\u001b[49m\u001b[43m \u001b[49m\u001b[43mre\u001b[49m\u001b[38;5;241;43m.\u001b[39;49m\u001b[43mIGNORECASE\u001b[49m\u001b[43m)\u001b[49m:\n\u001b[0;32m     20\u001b[0m         \u001b[38;5;28;01mreturn\u001b[39;00m \u001b[38;5;241m.\u001b[39m\u001b[38;5;241m.\u001b[39m\u001b[38;5;241m.\u001b[39m\n\u001b[0;32m     21\u001b[0m \u001b[38;5;28;01mreturn\u001b[39;00m \u001b[38;5;28;01mFalse\u001b[39;00m\n",
            "File \u001b[1;32m~\\AppData\\Local\\Programs\\Python\\Python312\\Lib\\re\\__init__.py:177\u001b[0m, in \u001b[0;36msearch\u001b[1;34m(pattern, string, flags)\u001b[0m\n\u001b[0;32m    174\u001b[0m \u001b[38;5;28;01mdef\u001b[39;00m \u001b[38;5;21msearch\u001b[39m(pattern, string, flags\u001b[38;5;241m=\u001b[39m\u001b[38;5;241m0\u001b[39m):\n\u001b[0;32m    175\u001b[0m \u001b[38;5;250m    \u001b[39m\u001b[38;5;124;03m\"\"\"Scan through string looking for a match to the pattern, returning\u001b[39;00m\n\u001b[0;32m    176\u001b[0m \u001b[38;5;124;03m    a Match object, or None if no match was found.\"\"\"\u001b[39;00m\n\u001b[1;32m--> 177\u001b[0m     \u001b[38;5;28;01mreturn\u001b[39;00m \u001b[43m_compile\u001b[49m\u001b[43m(\u001b[49m\u001b[43mpattern\u001b[49m\u001b[43m,\u001b[49m\u001b[43m \u001b[49m\u001b[43mflags\u001b[49m\u001b[43m)\u001b[49m\u001b[38;5;241;43m.\u001b[39;49m\u001b[43msearch\u001b[49m\u001b[43m(\u001b[49m\u001b[43mstring\u001b[49m\u001b[43m)\u001b[49m\n",
            "\u001b[1;31mTypeError\u001b[0m: expected string or bytes-like object, got 'ellipsis'"
          ]
        },
        {
          "ename": "",
          "evalue": "",
          "output_type": "error",
          "traceback": [
            "\u001b[1;31mThe Kernel crashed while executing code in the current cell or a previous cell. \n",
            "\u001b[1;31mPlease review the code in the cell(s) to identify a possible cause of the failure. \n",
            "\u001b[1;31mClick <a href='https://aka.ms/vscodeJupyterKernelCrash'>here</a> for more info. \n",
            "\u001b[1;31mView Jupyter <a href='command:jupyter.viewOutput'>log</a> for further details."
          ]
        }
      ],
      "source": [
        "# Тестирование\n",
        "inputs = [\n",
        "    \"What is the capital of France?\",\n",
        "    ...\n",
        "]\n",
        "\n",
        "for i, inp in enumerate(inputs):\n",
        "    print(f\"Input {i+1}: {inp}\")\n",
        "    print(f\"Output: {process_user_input(inp)}\")\n",
        "    print(\"-\" * 40)"
      ]
    },
    {
      "cell_type": "markdown",
      "metadata": {
        "id": "6j1lMDpIYbZi"
      },
      "source": [
        "## Требования к оформлению\n",
        "- Каждый результат должен быть сопровожден кодом, комментариями и выводами.\n",
        "- Предоставьте accuracy, сравнения и выводы в формате markdown в jupyter notebook."
      ]
    },
    {
      "cell_type": "markdown",
      "metadata": {
        "id": "hMFfpIc5Yh_k"
      },
      "source": [
        "## Дополнительное задание (по желанию, +5 баллов)\n",
        "Проверьте, как работает модель с разными длинами промпта (от коротких до детализированных). Как длина промпта влияет на качество ответа?\n",
        "\n",
        "---\n",
        "\n",
        "**Удачи в выполнении задания!**\n"
      ]
    }
  ],
  "metadata": {
    "colab": {
      "provenance": []
    },
    "kernelspec": {
      "display_name": "venv",
      "language": "python",
      "name": "python3"
    },
    "language_info": {
      "codemirror_mode": {
        "name": "ipython",
        "version": 3
      },
      "file_extension": ".py",
      "mimetype": "text/x-python",
      "name": "python",
      "nbconvert_exporter": "python",
      "pygments_lexer": "ipython3",
      "version": "3.12.8"
    }
  },
  "nbformat": 4,
  "nbformat_minor": 0
}
